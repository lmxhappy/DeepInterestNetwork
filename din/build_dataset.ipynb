{
 "cells": [
  {
   "cell_type": "code",
   "execution_count": 3,
   "metadata": {},
   "outputs": [],
   "source": [
    "# coding: utf-8\n",
    "\n",
    "import random\n",
    "import pickle\n",
    "\n",
    "random.seed(1234)\n",
    "\n",
    "with open('../raw_data/remap.pkl', 'rb') as f:\n",
    "  reviews_df = pickle.load(f)\n",
    "  cate_list = pickle.load(f)\n",
    "  user_count, item_count, cate_count, example_count = pickle.load(f)"
   ]
  },
  {
   "cell_type": "code",
   "execution_count": 4,
   "metadata": {},
   "outputs": [
    {
     "data": {
      "text/html": [
       "<div>\n",
       "<style scoped>\n",
       "    .dataframe tbody tr th:only-of-type {\n",
       "        vertical-align: middle;\n",
       "    }\n",
       "\n",
       "    .dataframe tbody tr th {\n",
       "        vertical-align: top;\n",
       "    }\n",
       "\n",
       "    .dataframe thead th {\n",
       "        text-align: right;\n",
       "    }\n",
       "</style>\n",
       "<table border=\"1\" class=\"dataframe\">\n",
       "  <thead>\n",
       "    <tr style=\"text-align: right;\">\n",
       "      <th></th>\n",
       "      <th>reviewerID</th>\n",
       "      <th>asin</th>\n",
       "      <th>unixReviewTime</th>\n",
       "    </tr>\n",
       "  </thead>\n",
       "  <tbody>\n",
       "    <tr>\n",
       "      <th>0</th>\n",
       "      <td>176008</td>\n",
       "      <td>0</td>\n",
       "      <td>1370131200</td>\n",
       "    </tr>\n",
       "    <tr>\n",
       "      <th>1</th>\n",
       "      <td>173739</td>\n",
       "      <td>0</td>\n",
       "      <td>1290643200</td>\n",
       "    </tr>\n",
       "    <tr>\n",
       "      <th>2</th>\n",
       "      <td>134504</td>\n",
       "      <td>0</td>\n",
       "      <td>1283990400</td>\n",
       "    </tr>\n",
       "    <tr>\n",
       "      <th>3</th>\n",
       "      <td>24476</td>\n",
       "      <td>0</td>\n",
       "      <td>1290556800</td>\n",
       "    </tr>\n",
       "    <tr>\n",
       "      <th>4</th>\n",
       "      <td>57419</td>\n",
       "      <td>0</td>\n",
       "      <td>1317254400</td>\n",
       "    </tr>\n",
       "    <tr>\n",
       "      <th>...</th>\n",
       "      <td>...</td>\n",
       "      <td>...</td>\n",
       "      <td>...</td>\n",
       "    </tr>\n",
       "    <tr>\n",
       "      <th>1689183</th>\n",
       "      <td>107787</td>\n",
       "      <td>63000</td>\n",
       "      <td>1405555200</td>\n",
       "    </tr>\n",
       "    <tr>\n",
       "      <th>1689184</th>\n",
       "      <td>22987</td>\n",
       "      <td>63000</td>\n",
       "      <td>1405382400</td>\n",
       "    </tr>\n",
       "    <tr>\n",
       "      <th>1689185</th>\n",
       "      <td>58729</td>\n",
       "      <td>63000</td>\n",
       "      <td>1405555200</td>\n",
       "    </tr>\n",
       "    <tr>\n",
       "      <th>1689186</th>\n",
       "      <td>19901</td>\n",
       "      <td>63000</td>\n",
       "      <td>1405641600</td>\n",
       "    </tr>\n",
       "    <tr>\n",
       "      <th>1689187</th>\n",
       "      <td>84764</td>\n",
       "      <td>63000</td>\n",
       "      <td>1405209600</td>\n",
       "    </tr>\n",
       "  </tbody>\n",
       "</table>\n",
       "<p>1689188 rows × 3 columns</p>\n",
       "</div>"
      ],
      "text/plain": [
       "         reviewerID   asin  unixReviewTime\n",
       "0            176008      0      1370131200\n",
       "1            173739      0      1290643200\n",
       "2            134504      0      1283990400\n",
       "3             24476      0      1290556800\n",
       "4             57419      0      1317254400\n",
       "...             ...    ...             ...\n",
       "1689183      107787  63000      1405555200\n",
       "1689184       22987  63000      1405382400\n",
       "1689185       58729  63000      1405555200\n",
       "1689186       19901  63000      1405641600\n",
       "1689187       84764  63000      1405209600\n",
       "\n",
       "[1689188 rows x 3 columns]"
      ]
     },
     "execution_count": 4,
     "metadata": {},
     "output_type": "execute_result"
    }
   ],
   "source": [
    "reviews_df"
   ]
  },
  {
   "cell_type": "code",
   "execution_count": 11,
   "metadata": {},
   "outputs": [
    {
     "name": "stdout",
     "output_type": "stream",
     "text": [
      "         reviewerID   asin  unixReviewTime\n",
      "321546            0  13179      1400457600\n",
      "450446            0  17993      1400457600\n",
      "738088            0  28326      1400457600\n",
      "766200            0  29247      1400457600\n",
      "1678142           0  62275      1400457600\n",
      "[30832, 19089, 58306, 27677, 28901]\n"
     ]
    }
   ],
   "source": [
    "for reviewerID, hist in reviews_df.groupby('reviewerID'):\n",
    "  print(hist)\n",
    "#   user历史上的产品是正样本\n",
    "  pos_list = hist['asin'].tolist()\n",
    "  def gen_neg():\n",
    "    neg = pos_list[0]\n",
    "    while neg in pos_list:\n",
    "      print('----')\n",
    "      neg = random.randint(0, item_count-1)\n",
    "    return neg\n",
    "\n",
    "  neg_list = [random.randint(0, item_count-1) for i in range(len(pos_list))]\n",
    "  print(neg_list)\n",
    "  break"
   ]
  },
  {
   "cell_type": "code",
   "execution_count": 9,
   "metadata": {},
   "outputs": [
    {
     "name": "stdout",
     "output_type": "stream",
     "text": [
      "         reviewerID   asin  unixReviewTime\n",
      "321546            0  13179      1400457600\n",
      "450446            0  17993      1400457600\n",
      "738088            0  28326      1400457600\n",
      "766200            0  29247      1400457600\n",
      "1678142           0  62275      1400457600\n",
      "[61908, 20382, 112, 20685, 51376]\n"
     ]
    }
   ],
   "source": [
    "for reviewerID, hist in reviews_df.groupby('reviewerID'):\n",
    "  print(hist)\n",
    "#   user历史上的产品是正样本\n",
    "  pos_list = hist['asin'].tolist()\n",
    "\n",
    "  neg_list = [random.randint(0, item_count-1) for i in range(len(pos_list))]\n",
    "  print(neg_list)\n",
    "  break"
   ]
  },
  {
   "cell_type": "code",
   "execution_count": 16,
   "metadata": {},
   "outputs": [],
   "source": [
    "train_set = []\n",
    "test_set = []\n",
    "\n",
    "# 都是按照人、时间升序排列的\n",
    "for reviewerID, hist in reviews_df.groupby('reviewerID'):\n",
    "#   print(hist)\n",
    "#   user历史上的产品是正样本\n",
    "  pos_list = hist['asin'].tolist()\n",
    "  neg_list = [random.randint(0, item_count-1) for i in range(len(pos_list))]\n",
    "\n",
    "#   之前的是过去的，中间某有个是candidate item，过去的都是行为序列\n",
    "  for i in range(1, len(pos_list)):\n",
    "    hist_asin = pos_list[:i]\n",
    "    if i != len(pos_list) - 1:\n",
    "      train_set.append((reviewerID, hist_asin, pos_list[i], 1))\n",
    "      train_set.append((reviewerID, hist_asin, neg_list[i], 0))\n",
    "    else:\n",
    "#       每个人一条样本做测试，格式跟train_set的还不一样。形如 (1, [41862, 46010, 54171, 56540, 58134], (62555, 2288))\n",
    "#       虽然与训练的数据很像\n",
    "      label = (pos_list[i], neg_list[i])\n",
    "      test_set.append((reviewerID, hist_asin, label))"
   ]
  },
  {
   "cell_type": "code",
   "execution_count": 15,
   "metadata": {},
   "outputs": [
    {
     "data": {
      "text/plain": [
       "[(0, [13179, 17993, 28326, 29247], (62275, 5940)),\n",
       " (1, [41862, 46010, 54171, 56540, 58134], (62555, 2288)),\n",
       " (2, [42298, 42390, 46782, 47355], (50682, 50232)),\n",
       " (3, [21989, 25578, 58444, 60072], (62274, 51693)),\n",
       " (4, [3112, 30275, 40094, 48963, 54245, 58671], (62022, 30379)),\n",
       " (5, [24157, 28174, 30462, 30573, 50847, 55698, 58911, 59196], (60625, 31899)),\n",
       " (6, [20912, 25945, 26644, 29206, 42564, 43676], (47798, 30533)),\n",
       " (7, [10064, 13629, 31874, 32991, 38943], (56441, 37945)),\n",
       " (8, [12617, 13540, 36841, 47477, 54708], (60479, 42246)),\n",
       " (9, [12023, 15970, 22602, 23519, 31488], (53243, 16328))]"
      ]
     },
     "execution_count": 15,
     "metadata": {},
     "output_type": "execute_result"
    }
   ],
   "source": [
    "test_set[:10]"
   ]
  },
  {
   "cell_type": "code",
   "execution_count": 17,
   "metadata": {},
   "outputs": [],
   "source": [
    "random.shuffle(train_set)\n",
    "random.shuffle(test_set)\n",
    "\n",
    "assert len(test_set) == user_count\n",
    "# assert(len(test_set) + len(train_set) // 2 == reviews_df.shape[0])\n",
    "\n",
    "with open('dataset.pkl', 'wb') as f:\n",
    "  pickle.dump(train_set, f, pickle.HIGHEST_PROTOCOL)\n",
    "  pickle.dump(test_set, f, pickle.HIGHEST_PROTOCOL)   \n",
    "  pickle.dump(cate_list, f, pickle.HIGHEST_PROTOCOL)\n",
    "  pickle.dump((user_count, item_count, cate_count), f, pickle.HIGHEST_PROTOCOL)"
   ]
  }
 ],
 "metadata": {
  "kernelspec": {
   "display_name": "Python 3",
   "language": "python",
   "name": "python3"
  },
  "language_info": {
   "codemirror_mode": {
    "name": "ipython",
    "version": 3
   },
   "file_extension": ".py",
   "mimetype": "text/x-python",
   "name": "python",
   "nbconvert_exporter": "python",
   "pygments_lexer": "ipython3",
   "version": "3.7.6"
  }
 },
 "nbformat": 4,
 "nbformat_minor": 4
}
