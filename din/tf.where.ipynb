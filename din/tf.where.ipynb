{
 "cells": [
  {
   "cell_type": "code",
   "execution_count": 1,
   "metadata": {},
   "outputs": [
    {
     "name": "stdout",
     "output_type": "stream",
     "text": [
      "WARNING:tensorflow:From <ipython-input-1-1e4169dd0fe0>:9: where (from tensorflow.python.ops.array_ops) is deprecated and will be removed in a future version.\n",
      "Instructions for updating:\n",
      "Use tf.where in 2.0, which has the same broadcast rule as np.where\n",
      "[[0 0]\n",
      " [1 1]\n",
      " [1 2]]\n",
      "[[0 0]\n",
      " [1 1]]\n"
     ]
    }
   ],
   "source": [
    "import tensorflow as tf\n",
    "a = [[1,2,3],[4,5,6]]\n",
    "b = [[1,0,3],[1,5,1]]\n",
    "condition1 = [[True,False,False],\n",
    "             [False,True,True]]\n",
    "\n",
    "condition2 = [[True,False,False],\n",
    "             [False,True,False]]\n",
    "\n",
    "with tf.Session() as sess:\n",
    "    print(sess.run(tf.where(condition1)))\n",
    "    print(sess.run(tf.where(condition2)))"
   ]
  }
 ],
 "metadata": {
  "kernelspec": {
   "display_name": "Python 3",
   "language": "python",
   "name": "python3"
  },
  "language_info": {
   "codemirror_mode": {
    "name": "ipython",
    "version": 3
   },
   "file_extension": ".py",
   "mimetype": "text/x-python",
   "name": "python",
   "nbconvert_exporter": "python",
   "pygments_lexer": "ipython3",
   "version": "3.7.7"
  }
 },
 "nbformat": 4,
 "nbformat_minor": 4
}
