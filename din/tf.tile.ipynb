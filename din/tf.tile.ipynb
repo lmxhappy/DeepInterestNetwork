{
 "cells": [
  {
   "cell_type": "code",
   "execution_count": 1,
   "metadata": {},
   "outputs": [
    {
     "name": "stdout",
     "output_type": "stream",
     "text": [
      "[[1. 2.]\n",
      " [3. 4.]\n",
      " [5. 6.]]\n",
      "[3 2]\n",
      "[[1. 2. 1. 2. 1. 2.]\n",
      " [3. 4. 3. 4. 3. 4.]\n",
      " [5. 6. 5. 6. 5. 6.]\n",
      " [1. 2. 1. 2. 1. 2.]\n",
      " [3. 4. 3. 4. 3. 4.]\n",
      " [5. 6. 5. 6. 5. 6.]]\n",
      "[6 6]\n"
     ]
    }
   ],
   "source": [
    "import tensorflow as tf\n",
    "\n",
    "a = tf.constant([[1, 2], [3, 4], [5, 6]], dtype=tf.float32)\n",
    "a1 = tf.tile(a, [2, 3])\n",
    "with tf.Session() as sess:\n",
    "    print(sess.run(a))\n",
    "    print(sess.run(tf.shape(a)))\n",
    "    \n",
    "    print(sess.run(a1))\n",
    "    print(sess.run(tf.shape(a1)))"
   ]
  }
 ],
 "metadata": {
  "kernelspec": {
   "display_name": "Python 3",
   "language": "python",
   "name": "python3"
  },
  "language_info": {
   "codemirror_mode": {
    "name": "ipython",
    "version": 3
   },
   "file_extension": ".py",
   "mimetype": "text/x-python",
   "name": "python",
   "nbconvert_exporter": "python",
   "pygments_lexer": "ipython3",
   "version": "3.7.7"
  }
 },
 "nbformat": 4,
 "nbformat_minor": 4
}
